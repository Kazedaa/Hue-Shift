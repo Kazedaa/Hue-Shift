{
 "cells": [
  {
   "cell_type": "code",
   "execution_count": null,
   "metadata": {},
   "outputs": [],
   "source": [
    "import yaml\n",
    "import os\n",
    "import torch\n",
    "\n",
    "from models.unet import Unet\n",
    "from models.vae import VAE\n",
    "from utils.scheduler import LinearNoiseSchedule\n",
    "from utils.sample_ddpm import sample\n",
    "\n",
    "DDPM_CONFIG = \"configs/ddpm.yaml\"\n",
    "VAE_CONFIG = \"configs/vae.yaml\"\n",
    "DEVICE = \"cuda\" if torch.cuda.is_available() else \"cpu\"\n",
    "\n",
    "DDPM_PATH = \"\"\n",
    "VAE_PATH = \"\""
   ]
  },
  {
   "cell_type": "code",
   "execution_count": null,
   "metadata": {},
   "outputs": [],
   "source": [
    "with open(DDPM_CONFIG, 'r') as file:\n",
    "    try:\n",
    "        config = yaml.safe_load(file)\n",
    "    except yaml.YAMLError as exc:\n",
    "        print(exc)\n",
    "ddpm_model_config = config['model_config']\n",
    "ddpm_dataset_config = config['dataset_config']\n",
    "ddpm_training_config = config['training_config']\n",
    "ddpm_inference_config = config['inference_config']\n",
    "\n",
    "with open(VAE_CONFIG, 'r') as file:\n",
    "    try:\n",
    "        config = yaml.safe_load(file)\n",
    "    except yaml.YAMLError as exc:\n",
    "        print(exc)\n",
    "vae_model_config = config['model_config']"
   ]
  },
  {
   "cell_type": "code",
   "execution_count": null,
   "metadata": {},
   "outputs": [],
   "source": [
    "# Create the noise scheduler\n",
    "scheduler = LinearNoiseSchedule(num_timesteps=ddpm_training_config['NUM_TIMESTEPS'])\n",
    "\n",
    "model = Unet(im_channels = vae_model_config['Z_CHANNELS'], model_config = ddpm_model_config).to(DEVICE)\n",
    "model.eval()\n",
    "\n",
    "if os.path.exists(): #path of the pretrained DDPM goes here\n",
    "    print('Loaded unet checkpoint')\n",
    "    model.load_state_dict(torch.load(DDPM_PATH,map_location=DEVICE))\n",
    "\n",
    "# Create output directories\n",
    "if not os.path.exists():\n",
    "    os.mkdir()\n",
    "\n",
    "vae = VAE(model_config=vae_model_config).to(DEVICE)\n",
    "vae.eval()\n",
    "\n",
    "# Load vae if found\n",
    "if os.path.exists(): #path of pretrained VAE\n",
    "    print('Loaded vae checkpoint')\n",
    "    vae.load_state_dict(torch.load(VAE_PATH,map_location=DEVICE), strict=True)"
   ]
  },
  {
   "cell_type": "code",
   "execution_count": null,
   "metadata": {},
   "outputs": [],
   "source": [
    "with torch.no_grad():\n",
    "    sample(model, vae, scheduler, ddpm_inference_config['NUM_SAMPLES'], ddpm_inference_config['NROWS'])"
   ]
  }
 ],
 "metadata": {
  "kernelspec": {
   "display_name": "hueshift",
   "language": "python",
   "name": "python3"
  },
  "language_info": {
   "name": "python",
   "version": "3.12.8"
  }
 },
 "nbformat": 4,
 "nbformat_minor": 2
}
